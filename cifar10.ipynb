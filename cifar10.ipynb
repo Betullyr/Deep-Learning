{
  "nbformat": 4,
  "nbformat_minor": 0,
  "metadata": {
    "colab": {
      "provenance": []
    },
    "kernelspec": {
      "name": "python3",
      "display_name": "Python 3"
    },
    "language_info": {
      "name": "python"
    }
  },
  "cells": [
    {
      "cell_type": "markdown",
      "source": [
        "Image Classification using CNN"
      ],
      "metadata": {
        "id": "kq294Uhb9TG3"
      }
    },
    {
      "cell_type": "code",
      "execution_count": 2,
      "metadata": {
        "id": "L0w0SvZdFJre"
      },
      "outputs": [],
      "source": [
        "import tensorflow as tf\n",
        "from tensorflow.keras import datasets, layers, models\n",
        "import numpy as np\n",
        "import matplotlib.pyplot as plt"
      ]
    },
    {
      "cell_type": "code",
      "source": [
        "(X_train,Y_train),(X_test,Y_test) = datasets.cifar10.load_data()"
      ],
      "metadata": {
        "colab": {
          "base_uri": "https://localhost:8080/"
        },
        "id": "NOEeRWBJGJuj",
        "outputId": "726a46f2-5b36-4b20-bae5-17bc0464c337"
      },
      "execution_count": 3,
      "outputs": [
        {
          "output_type": "stream",
          "name": "stdout",
          "text": [
            "Downloading data from https://www.cs.toronto.edu/~kriz/cifar-10-python.tar.gz\n",
            "170498071/170498071 [==============================] - 12s 0us/step\n"
          ]
        }
      ]
    },
    {
      "cell_type": "code",
      "source": [
        "print(X_test.shape)\n",
        "print(X_train.shape)"
      ],
      "metadata": {
        "colab": {
          "base_uri": "https://localhost:8080/"
        },
        "id": "jBygdA6TGWWy",
        "outputId": "fab8d80b-474a-49f4-c9b0-568e1fa287ad"
      },
      "execution_count": 4,
      "outputs": [
        {
          "output_type": "stream",
          "name": "stdout",
          "text": [
            "(10000, 32, 32, 3)\n",
            "(50000, 32, 32, 3)\n"
          ]
        }
      ]
    },
    {
      "cell_type": "code",
      "source": [
        "print(Y_train[:5])"
      ],
      "metadata": {
        "colab": {
          "base_uri": "https://localhost:8080/"
        },
        "id": "js2pUCs8OY8e",
        "outputId": "b66dc7a3-6eca-4dec-a4e8-20b79b808e8e"
      },
      "execution_count": 5,
      "outputs": [
        {
          "output_type": "stream",
          "name": "stdout",
          "text": [
            "[[6]\n",
            " [9]\n",
            " [9]\n",
            " [4]\n",
            " [1]]\n"
          ]
        }
      ]
    },
    {
      "cell_type": "code",
      "source": [
        "Y_train = Y_train.reshape(-1,)\n",
        "Y_train[:5]"
      ],
      "metadata": {
        "colab": {
          "base_uri": "https://localhost:8080/"
        },
        "id": "658dQQVDOZyp",
        "outputId": "9d9ea723-b7d2-43e3-985b-5f17247a7d17"
      },
      "execution_count": 6,
      "outputs": [
        {
          "output_type": "execute_result",
          "data": {
            "text/plain": [
              "array([6, 9, 9, 4, 1], dtype=uint8)"
            ]
          },
          "metadata": {},
          "execution_count": 6
        }
      ]
    },
    {
      "cell_type": "code",
      "source": [
        "Y_test = Y_test.reshape(-1,)\n",
        "Y_test[:5]"
      ],
      "metadata": {
        "colab": {
          "base_uri": "https://localhost:8080/"
        },
        "id": "KcUGzSveOgzn",
        "outputId": "546d5a3f-5008-49f6-f85a-e83f70f94b73"
      },
      "execution_count": 7,
      "outputs": [
        {
          "output_type": "execute_result",
          "data": {
            "text/plain": [
              "array([3, 8, 8, 0, 6], dtype=uint8)"
            ]
          },
          "metadata": {},
          "execution_count": 7
        }
      ]
    },
    {
      "cell_type": "code",
      "source": [
        "classes=[\"airplane\",\"automobile\",\"bird\",\"cat\",\"deer\",\"dog\",\"frog\",\"horse\",\"ship\",\"truck\"]"
      ],
      "metadata": {
        "id": "JbxYpyayNGsJ"
      },
      "execution_count": 8,
      "outputs": []
    },
    {
      "cell_type": "code",
      "source": [
        "def plot_sample(X,Y,index):\n",
        "   plt.figure(figsize=(15,2))\n",
        "   plt.imshow(X[index])\n",
        "   plt.xlabel(classes[Y[index]])"
      ],
      "metadata": {
        "id": "1-N12iu6Mqhg"
      },
      "execution_count": 9,
      "outputs": []
    },
    {
      "cell_type": "code",
      "source": [
        "plot_sample(X_train,Y_train,0)"
      ],
      "metadata": {
        "colab": {
          "base_uri": "https://localhost:8080/",
          "height": 237
        },
        "id": "PNPOBscrHjT1",
        "outputId": "62b888f0-87fd-46d7-99b4-1ea5b22d4c88"
      },
      "execution_count": 10,
      "outputs": [
        {
          "output_type": "display_data",
          "data": {
            "text/plain": [
              "<Figure size 1500x200 with 1 Axes>"
            ],
            "image/png": "[encoded data removed]"
          },
          "metadata": {}
        }
      ]
    },
    {
      "cell_type": "code",
      "source": [
        "#Normalization\n",
        "X_train = X_train/255.0\n",
        "X_test = X_test/255"
      ],
      "metadata": {
        "id": "31ZKc_c9GqSm"
      },
      "execution_count": 11,
      "outputs": []
    },
    {
      "cell_type": "code",
      "source": [
        "cnn = models.Sequential([\n",
        "\n",
        "    layers.Conv2D(filters=32, kernel_size=(3,3), activation=\"relu\",input_shape=(32,32,3)),\n",
        "    layers.MaxPooling2D((2,2)),\n",
        "    layers.Conv2D(filters=64, kernel_size=(3,3), activation=\"relu\",input_shape=(32,32,3)),\n",
        "    layers.MaxPooling2D((2,2)),\n",
        "\n",
        "    layers.Flatten(),\n",
        "    layers.Dense(64,activation=\"relu\"),\n",
        "    layers.Dense(10,activation=\"softmax\")\n",
        "\n",
        "])"
      ],
      "metadata": {
        "id": "D2-nT9vgHTbf"
      },
      "execution_count": 12,
      "outputs": []
    },
    {
      "cell_type": "code",
      "source": [
        "cnn.compile(optimizer=\"adam\",\n",
        "              loss=\"sparse_categorical_crossentropy\",\n",
        "              metrics=[\"accuracy\"])"
      ],
      "metadata": {
        "id": "kh7CBuNjICNQ"
      },
      "execution_count": 13,
      "outputs": []
    },
    {
      "cell_type": "code",
      "source": [
        "history = cnn.fit(X_train,Y_train,validation_split=0.1,epochs=10)"
      ],
      "metadata": {
        "colab": {
          "base_uri": "https://localhost:8080/"
        },
        "id": "2aqYAU2yI2ro",
        "outputId": "ec221f39-bb97-42cb-a31e-1bd839783ae5"
      },
      "execution_count": 14,
      "outputs": [
        {
          "output_type": "stream",
          "name": "stdout",
          "text": [
            "Epoch 1/10\n",
            "1407/1407 [==============================] - 71s 49ms/step - loss: 1.5043 - accuracy: 0.4577 - val_loss: 1.2137 - val_accuracy: 0.5672\n",
            "Epoch 2/10\n",
            "1407/1407 [==============================] - 69s 49ms/step - loss: 1.1383 - accuracy: 0.6020 - val_loss: 1.0363 - val_accuracy: 0.6392\n",
            "Epoch 3/10\n",
            "1407/1407 [==============================] - 75s 53ms/step - loss: 1.0019 - accuracy: 0.6526 - val_loss: 0.9941 - val_accuracy: 0.6542\n",
            "Epoch 4/10\n",
            "1407/1407 [==============================] - 60s 42ms/step - loss: 0.9154 - accuracy: 0.6801 - val_loss: 1.0582 - val_accuracy: 0.6388\n",
            "Epoch 5/10\n",
            "1407/1407 [==============================] - 60s 43ms/step - loss: 0.8498 - accuracy: 0.7055 - val_loss: 0.9359 - val_accuracy: 0.6822\n",
            "Epoch 6/10\n",
            "1407/1407 [==============================] - 59s 42ms/step - loss: 0.7942 - accuracy: 0.7242 - val_loss: 0.8972 - val_accuracy: 0.7022\n",
            "Epoch 7/10\n",
            "1407/1407 [==============================] - 62s 44ms/step - loss: 0.7437 - accuracy: 0.7400 - val_loss: 0.9152 - val_accuracy: 0.6996\n",
            "Epoch 8/10\n",
            "1407/1407 [==============================] - 59s 42ms/step - loss: 0.7032 - accuracy: 0.7530 - val_loss: 0.8739 - val_accuracy: 0.7114\n",
            "Epoch 9/10\n",
            "1407/1407 [==============================] - 61s 43ms/step - loss: 0.6634 - accuracy: 0.7672 - val_loss: 0.9263 - val_accuracy: 0.7042\n",
            "Epoch 10/10\n",
            "1407/1407 [==============================] - 59s 42ms/step - loss: 0.6318 - accuracy: 0.7762 - val_loss: 0.9032 - val_accuracy: 0.7072\n"
          ]
        }
      ]
    },
    {
      "cell_type": "code",
      "source": [
        "plt.plot(history.history[\"accuracy\"])\n",
        "plt.plot(history.history[\"loss\"])\n",
        "plt.title(\"model\")\n",
        "plt.xlabel(\"epoch\")\n",
        "plt.legend([\"accuracy\",\"loss\"])"
      ],
      "metadata": {
        "colab": {
          "base_uri": "https://localhost:8080/",
          "height": 489
        },
        "id": "IelQJCREY3tG",
        "outputId": "f79c8626-6578-4609-96ec-d66465e6ff98"
      },
      "execution_count": 15,
      "outputs": [
        {
          "output_type": "execute_result",
          "data": {
            "text/plain": [
              "<matplotlib.legend.Legend at 0x78c062a364a0>"
            ]
          },
          "metadata": {},
          "execution_count": 15
        },
        {
          "output_type": "display_data",
          "data": {
            "text/plain": [
              "<Figure size 640x480 with 1 Axes>"
            ],
            "image/png": "[encoded data removed]"
          },
          "metadata": {}
        }
      ]
    },
    {
      "cell_type": "code",
      "source": [
        "loss,accuarcy=cnn.evaluate(X_test,Y_test)\n"
      ],
      "metadata": {
        "colab": {
          "base_uri": "https://localhost:8080/"
        },
        "id": "dgwADFJPV3tU",
        "outputId": "9f28f0fa-d370-49c9-d8f9-f097a8866c5e"
      },
      "execution_count": 16,
      "outputs": [
        {
          "output_type": "stream",
          "name": "stdout",
          "text": [
            "313/313 [==============================] - 4s 12ms/step - loss: 0.9589 - accuracy: 0.6925\n"
          ]
        }
      ]
    },
    {
      "cell_type": "code",
      "source": [
        "y_pred = cnn.predict(X_test)\n",
        "y_pred[:3]"
      ],
      "metadata": {
        "colab": {
          "base_uri": "https://localhost:8080/"
        },
        "id": "2BcJAT_AclbB",
        "outputId": "060f0dd9-17cc-449b-8a3f-b8becbdc8306"
      },
      "execution_count": 17,
      "outputs": [
        {
          "output_type": "stream",
          "name": "stdout",
          "text": [
            "313/313 [==============================] - 4s 11ms/step\n"
          ]
        },
        {
          "output_type": "execute_result",
          "data": {
            "text/plain": [
              "array([[1.95781467e-04, 4.04968252e-03, 1.85498875e-02, 8.54868889e-01,\n",
              "        3.24707333e-04, 9.04110074e-02, 1.21123111e-03, 4.83501615e-04,\n",
              "        2.90452298e-02, 8.60121800e-04],\n",
              "       [2.63920636e-03, 4.54905704e-02, 1.35873790e-06, 1.14348256e-06,\n",
              "        2.43653119e-07, 2.65153965e-09, 8.53571702e-09, 6.25181196e-09,\n",
              "        9.51551080e-01, 3.16406920e-04],\n",
              "       [1.08770067e-02, 1.05906181e-01, 5.23718772e-04, 3.38611030e-03,\n",
              "        1.20859775e-04, 3.12103017e-04, 1.13849412e-04, 1.21395430e-03,\n",
              "        8.71873856e-01, 5.67237427e-03]], dtype=float32)"
            ]
          },
          "metadata": {},
          "execution_count": 17
        }
      ]
    },
    {
      "cell_type": "code",
      "source": [
        "y_classes = [np.argmax(i) for i in y_pred]\n",
        "print(y_classes[:5])"
      ],
      "metadata": {
        "colab": {
          "base_uri": "https://localhost:8080/"
        },
        "id": "g_YlPvyH4302",
        "outputId": "dc18036b-aa83-4156-d3b1-7a007e4a6bf3"
      },
      "execution_count": 19,
      "outputs": [
        {
          "output_type": "stream",
          "name": "stdout",
          "text": [
            "[3, 8, 8, 0, 4]\n"
          ]
        }
      ]
    },
    {
      "cell_type": "code",
      "source": [
        "plot_sample(X_test, Y_test, 0)\n",
        "classes[y_classes[0]]"
      ],
      "metadata": {
        "colab": {
          "base_uri": "https://localhost:8080/",
          "height": 255
        },
        "id": "B7sSPPy_5iTM",
        "outputId": "f330e363-d2c9-4233-84e5-85701d3d0cff"
      },
      "execution_count": 21,
      "outputs": [
        {
          "output_type": "execute_result",
          "data": {
            "text/plain": [
              "'cat'"
            ],
            "application/vnd.google.colaboratory.intrinsic+json": {
              "type": "string"
            }
          },
          "metadata": {},
          "execution_count": 21
        },
        {
          "output_type": "display_data",
          "data": {
            "text/plain": [
              "<Figure size 1500x200 with 1 Axes>"
            ],
            "image/png": "[encoded data removed]"
          },
          "metadata": {}
        }
      ]
    },
    {
      "cell_type": "code",
      "source": [],
      "metadata": {
        "id": "4fkWD3CR9MT7"
      },
      "execution_count": null,
      "outputs": []
    }
  ]
}