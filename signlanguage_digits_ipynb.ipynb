{
  "nbformat": 4,
  "nbformat_minor": 0,
  "metadata": {
    "colab": {
      "provenance": []
    },
    "kernelspec": {
      "name": "python3",
      "display_name": "Python 3"
    },
    "language_info": {
      "name": "python"
    }
  },
  "cells": [
    {
      "cell_type": "code",
      "execution_count": 46,
      "metadata": {
        "id": "m3PrKw5hmvuh"
      },
      "outputs": [],
      "source": [
        "import tensorflow as tf\n",
        "from tensorflow.keras import layers, models\n",
        "from keras.models import Sequential\n",
        "from keras.layers import Conv2D, MaxPooling2D, Flatten, Dense\n",
        "from sklearn.model_selection import train_test_split\n",
        "from sklearn.preprocessing import StandardScaler\n",
        "from PIL import Image\n",
        "import numpy as np"
      ]
    },
    {
      "cell_type": "code",
      "source": [
        "X = np.load('/content/X.npy')\n",
        "Y = np.load('/content/Y.npy')\n",
        "\n",
        "# Veriyi eğitim ve test setlerine bölme\n",
        "X_train, X_test, Y_train, Y_test = train_test_split(X, Y, test_size=0.2, random_state=42)"
      ],
      "metadata": {
        "id": "WW4xEgfnnM23"
      },
      "execution_count": 47,
      "outputs": []
    },
    {
      "cell_type": "code",
      "source": [
        "#veriseti hakkında bilgi sahibi olma\n",
        "print(X_test.shape)\n",
        "print(X_train.shape)\n",
        "print(Y_train[:5])\n",
        "\n"
      ],
      "metadata": {
        "id": "ro4_095Wnjsm",
        "colab": {
          "base_uri": "https://localhost:8080/"
        },
        "outputId": "87a5fbe3-f616-4762-9e21-da34b9f3cc5a"
      },
      "execution_count": 48,
      "outputs": [
        {
          "output_type": "stream",
          "name": "stdout",
          "text": [
            "(413, 64, 64)\n",
            "(1649, 64, 64)\n",
            "[[0. 0. 0. 0. 0. 1. 0. 0. 0. 0.]\n",
            " [0. 0. 0. 0. 0. 0. 0. 0. 0. 1.]\n",
            " [0. 0. 0. 0. 0. 0. 1. 0. 0. 0.]\n",
            " [1. 0. 0. 0. 0. 0. 0. 0. 0. 0.]\n",
            " [0. 0. 0. 0. 0. 0. 0. 0. 1. 0.]]\n"
          ]
        }
      ]
    },
    {
      "cell_type": "code",
      "source": [
        "# Model oluşturma\n",
        "model = models.Sequential()\n",
        "\n",
        "# Katmanları ekleme\n",
        "model.add(layers.Conv2D(32, (3, 3), activation='relu', input_shape=(64, 64, 1)))\n",
        "model.add(layers.MaxPooling2D((2, 2)))\n",
        "model.add(layers.Conv2D(64, (3, 3), activation='relu'))\n",
        "model.add(layers.MaxPooling2D((2, 2)))\n",
        "model.add(layers.Conv2D(64, (3, 3), activation='relu'))\n",
        "\n",
        "# Tam bağlantılı katmanlar\n",
        "model.add(layers.Flatten())\n",
        "model.add(layers.Dense(64, activation='relu'))\n",
        "model.add(layers.Dense(10, activation='softmax'))"
      ],
      "metadata": {
        "id": "CVHqaeXfoKHM"
      },
      "execution_count": 49,
      "outputs": []
    },
    {
      "cell_type": "code",
      "source": [
        "# Model derleme\n",
        "model.compile(optimizer='adam',\n",
        "              loss='categorical_crossentropy',\n",
        "              metrics=['accuracy'])"
      ],
      "metadata": {
        "id": "tJXi8X80pbOy"
      },
      "execution_count": 50,
      "outputs": []
    },
    {
      "cell_type": "code",
      "source": [
        "history = model.fit(X_train,Y_train,validation_split=0.1,epochs=10)"
      ],
      "metadata": {
        "id": "U6byabIpplz2",
        "colab": {
          "base_uri": "https://localhost:8080/"
        },
        "outputId": "ee5afd1b-58a6-4ede-d443-2ebf085d85ec"
      },
      "execution_count": 51,
      "outputs": [
        {
          "output_type": "stream",
          "name": "stdout",
          "text": [
            "Epoch 1/10\n",
            "47/47 [==============================] - 5s 100ms/step - loss: 2.2814 - accuracy: 0.1496 - val_loss: 2.0980 - val_accuracy: 0.2545\n",
            "Epoch 2/10\n",
            "47/47 [==============================] - 5s 105ms/step - loss: 1.3134 - accuracy: 0.5478 - val_loss: 0.8981 - val_accuracy: 0.6909\n",
            "Epoch 3/10\n",
            "47/47 [==============================] - 5s 97ms/step - loss: 0.7776 - accuracy: 0.7399 - val_loss: 0.6636 - val_accuracy: 0.7818\n",
            "Epoch 4/10\n",
            "47/47 [==============================] - 5s 105ms/step - loss: 0.5999 - accuracy: 0.8059 - val_loss: 0.6047 - val_accuracy: 0.8061\n",
            "Epoch 5/10\n",
            "47/47 [==============================] - 5s 97ms/step - loss: 0.4981 - accuracy: 0.8369 - val_loss: 0.6208 - val_accuracy: 0.8061\n",
            "Epoch 6/10\n",
            "47/47 [==============================] - 5s 103ms/step - loss: 0.3895 - accuracy: 0.8854 - val_loss: 0.4563 - val_accuracy: 0.8545\n",
            "Epoch 7/10\n",
            "47/47 [==============================] - 5s 100ms/step - loss: 0.2736 - accuracy: 0.9171 - val_loss: 0.5223 - val_accuracy: 0.8485\n",
            "Epoch 8/10\n",
            "47/47 [==============================] - 5s 98ms/step - loss: 0.2054 - accuracy: 0.9394 - val_loss: 0.3967 - val_accuracy: 0.8727\n",
            "Epoch 9/10\n",
            "47/47 [==============================] - 5s 105ms/step - loss: 0.1818 - accuracy: 0.9447 - val_loss: 0.3604 - val_accuracy: 0.8667\n",
            "Epoch 10/10\n",
            "47/47 [==============================] - 5s 97ms/step - loss: 0.1062 - accuracy: 0.9751 - val_loss: 0.4287 - val_accuracy: 0.8667\n"
          ]
        }
      ]
    },
    {
      "cell_type": "code",
      "source": [
        "import matplotlib.pyplot as plt\n",
        "\n",
        "plt.plot(history.history[\"accuracy\"])\n",
        "plt.plot(history.history[\"loss\"])\n",
        "plt.title(\"model\")\n",
        "plt.xlabel(\"epoch\")\n",
        "plt.legend([\"accuracy\",\"loss\"])"
      ],
      "metadata": {
        "id": "toH1x7RmppgU",
        "colab": {
          "base_uri": "https://localhost:8080/",
          "height": 489
        },
        "outputId": "193f73ad-e0ae-438d-b6a2-5f1dca429bf3"
      },
      "execution_count": 52,
      "outputs": [
        {
          "output_type": "execute_result",
          "data": {
            "text/plain": [
              "<matplotlib.legend.Legend at 0x7a14c92d2f80>"
            ]
          },
          "metadata": {},
          "execution_count": 52
        },
        {
          "output_type": "display_data",
          "data": {
            "text/plain": [
              "<Figure size 640x480 with 1 Axes>"
            ],
            "image/png": "[encoded data removed]"
          },
          "metadata": {}
        }
      ]
    },
    {
      "cell_type": "code",
      "source": [
        "loss,accuracy = model.evaluate(X_test,Y_test)\n",
        "print(accuracy)"
      ],
      "metadata": {
        "colab": {
          "base_uri": "https://localhost:8080/"
        },
        "id": "IX8aVgViJZIg",
        "outputId": "42644d74-6372-4ba3-b4e4-57975d2435da"
      },
      "execution_count": 53,
      "outputs": [
        {
          "output_type": "stream",
          "name": "stdout",
          "text": [
            "13/13 [==============================] - 0s 28ms/step - loss: 0.3560 - accuracy: 0.9031\n",
            "0.9031476974487305\n"
          ]
        }
      ]
    },
    {
      "cell_type": "code",
      "source": [
        "y_pred = model.predict(X_test)\n",
        "y_pred[:3]\n"
      ],
      "metadata": {
        "colab": {
          "base_uri": "https://localhost:8080/"
        },
        "id": "uuDKud3r_fUi",
        "outputId": "7c58fbd1-6f7a-4749-aefe-0f8bc284f8e9"
      },
      "execution_count": 54,
      "outputs": [
        {
          "output_type": "stream",
          "name": "stdout",
          "text": [
            "13/13 [==============================] - 0s 27ms/step\n"
          ]
        },
        {
          "output_type": "execute_result",
          "data": {
            "text/plain": [
              "array([[3.4396626e-06, 1.0203494e-08, 5.7630107e-02, 6.9900349e-02,\n",
              "        1.6549827e-10, 1.1121594e-07, 8.7246507e-01, 2.4357011e-10,\n",
              "        8.2080481e-07, 2.2817328e-09],\n",
              "       [3.9247290e-05, 9.0410573e-08, 8.8400138e-06, 4.3094646e-05,\n",
              "        2.2055962e-12, 2.2065043e-09, 4.0337077e-04, 1.6570335e-05,\n",
              "        4.5949686e-10, 9.9948877e-01],\n",
              "       [2.7095821e-05, 8.7749111e-03, 5.5966148e-04, 9.4158208e-01,\n",
              "        2.7936954e-07, 3.7262298e-03, 4.5164354e-02, 6.3061007e-06,\n",
              "        9.8564931e-05, 6.0485909e-05]], dtype=float32)"
            ]
          },
          "metadata": {},
          "execution_count": 54
        }
      ]
    },
    {
      "cell_type": "code",
      "source": [
        "Y_pred_labels = [np.argmax(i) for i in y_pred]\n",
        "print(Y_pred_labels)\n"
      ],
      "metadata": {
        "colab": {
          "base_uri": "https://localhost:8080/"
        },
        "id": "-GtAWYlfANQZ",
        "outputId": "e695279a-95af-4261-c20d-56b771b318a3"
      },
      "execution_count": 55,
      "outputs": [
        {
          "output_type": "stream",
          "name": "stdout",
          "text": [
            "[6, 9, 3, 9, 0, 0, 8, 2, 5, 6, 4, 9, 7, 1, 6, 3, 0, 5, 0, 7, 0, 2, 3, 6, 9, 2, 7, 3, 5, 9, 8, 5, 4, 6, 4, 6, 3, 1, 9, 2, 7, 8, 3, 1, 1, 2, 5, 7, 8, 9, 1, 9, 6, 2, 1, 0, 6, 8, 2, 8, 2, 7, 2, 7, 5, 9, 2, 2, 6, 4, 1, 1, 2, 7, 4, 9, 9, 4, 3, 8, 2, 9, 2, 0, 6, 0, 0, 4, 1, 2, 5, 5, 7, 4, 7, 4, 2, 2, 8, 7, 2, 0, 9, 0, 2, 1, 7, 8, 8, 7, 5, 3, 3, 3, 2, 6, 6, 1, 2, 5, 5, 0, 1, 5, 8, 2, 6, 5, 1, 0, 3, 1, 9, 9, 8, 3, 8, 9, 2, 2, 2, 6, 2, 6, 6, 1, 2, 2, 5, 4, 9, 2, 1, 2, 6, 2, 6, 6, 1, 1, 7, 2, 9, 8, 6, 2, 4, 7, 6, 6, 3, 8, 2, 9, 1, 6, 7, 6, 0, 6, 1, 7, 4, 8, 1, 6, 2, 2, 4, 2, 8, 6, 8, 3, 2, 0, 8, 8, 8, 5, 4, 7, 0, 2, 2, 4, 2, 5, 2, 8, 9, 0, 2, 8, 5, 3, 1, 3, 5, 0, 6, 4, 6, 1, 7, 5, 4, 1, 6, 5, 8, 4, 7, 6, 2, 1, 5, 4, 6, 4, 9, 6, 1, 0, 9, 0, 1, 2, 3, 9, 5, 4, 2, 0, 0, 4, 2, 5, 9, 2, 4, 7, 9, 8, 3, 7, 3, 7, 7, 1, 1, 1, 8, 9, 2, 7, 7, 3, 6, 7, 5, 3, 6, 9, 1, 9, 2, 9, 8, 3, 0, 7, 0, 8, 0, 6, 5, 2, 1, 0, 0, 3, 3, 3, 8, 3, 2, 9, 6, 9, 6, 6, 1, 9, 9, 4, 6, 3, 0, 5, 5, 8, 0, 0, 1, 2, 8, 9, 3, 1, 0, 4, 1, 6, 2, 0, 9, 7, 6, 4, 8, 6, 6, 5, 5, 9, 2, 5, 5, 0, 4, 7, 7, 8, 3, 1, 0, 7, 0, 1, 1, 9, 1, 9, 9, 7, 5, 4, 6, 3, 5, 3, 6, 1, 1, 5, 4, 0, 6, 4, 7, 8, 1, 4, 6, 3, 8, 9, 9, 7, 6, 0, 2, 8, 6, 8, 0, 3, 1, 2, 2, 0, 5, 2, 1, 2, 0, 5, 3, 2, 1, 6, 1]\n"
          ]
        }
      ]
    },
    {
      "cell_type": "code",
      "source": [
        "plt.imshow(X_test[2])\n",
        "plt.show()\n",
        "# Modelin tahminini al\n",
        "tahmin = model.predict(np.expand_dims(X_test[2], axis=0))[0]\n",
        "\n",
        "# Modelin tahmin ettiği sınıf endeksi\n",
        "tahmin_sınıf = np.argmax(tahmin)\n",
        "\n",
        "# Gerçek etiketi al\n",
        "gerçek_etiket = np.argmax(Y_test[2])\n",
        "# Tahmin edilen ve gerçek sınıfı ekrana yazdırma\n",
        "print(f'Tahmin Edilen Sınıf: {tahmin_sınıf}')\n",
        "print(f'Gerçek Etiket: {gerçek_etiket}')"
      ],
      "metadata": {
        "colab": {
          "base_uri": "https://localhost:8080/",
          "height": 483
        },
        "id": "AezqI1H3AXxC",
        "outputId": "1748fb6b-47bc-449d-e48d-6c23facb7459"
      },
      "execution_count": 59,
      "outputs": [
        {
          "output_type": "display_data",
          "data": {
            "text/plain": [
              "<Figure size 640x480 with 1 Axes>"
            ],
            "image/png": "[encoded data removed]"
          },
          "metadata": {}
        },
        {
          "output_type": "stream",
          "name": "stdout",
          "text": [
            "1/1 [==============================] - 0s 16ms/step\n",
            "Tahmin Edilen Sınıf: 3\n",
            "Gerçek Etiket: 3\n"
          ]
        }
      ]
    },
    {
      "cell_type": "code",
      "source": [],
      "metadata": {
        "id": "_ExyZHMcCB8C"
      },
      "execution_count": null,
      "outputs": []
    }
  ]
}